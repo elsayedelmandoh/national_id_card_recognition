{
 "cells": [
  {
   "cell_type": "markdown",
   "metadata": {},
   "source": [
    "# Capstone: Computer vision foundation"
   ]
  },
  {
   "cell_type": "markdown",
   "metadata": {},
   "source": [
    "# National ID Card Recognition"
   ]
  },
  {
   "cell_type": "markdown",
   "metadata": {},
   "source": [
    "# Define Project Objectives"
   ]
  },
  {
   "cell_type": "markdown",
   "metadata": {},
   "source": [
    "In this Capstone project, \n",
    "\n",
    "you will be working on `National ID Card Recognition using OCR`. \n",
    "\n",
    "You will use `Tesseract OCR`, an open-source OCR engine, to `recognize the text` on the ID card images. \n",
    "\n",
    "Additionally, you will `use OpenCV`, an open-source computer vision library, to `preprocess the images` before passing them to the OCR engine. \n",
    "\n",
    "This project will give you hands-on experience with computer vision and OCR, which are increasingly important areas in the field of artificial intelligence.\n",
    "\n",
    "Hint: `Use Tesseract for OCR` and `Find Contours to wrap the image`.\n",
    "\n",
    "Target: Make this `code generic` enough and upload sample images to test it.\n",
    "\n",
    "Expected : upload random national id card , \n",
    "\n",
    "output :all `data in structured pandas format`.\n",
    "\n",
    "GUI : Build gui with streamlit library"
   ]
  },
  {
   "cell_type": "markdown",
   "metadata": {},
   "source": []
  }
 ],
 "metadata": {
  "kernelspec": {
   "display_name": "Python 3",
   "language": "python",
   "name": "python3"
  },
  "language_info": {
   "codemirror_mode": {
    "name": "ipython",
    "version": 3
   },
   "file_extension": ".py",
   "mimetype": "text/x-python",
   "name": "python",
   "nbconvert_exporter": "python",
   "pygments_lexer": "ipython3",
   "version": "3.11.4"
  },
  "orig_nbformat": 4
 },
 "nbformat": 4,
 "nbformat_minor": 2
}
